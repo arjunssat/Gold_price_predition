{
 "cells": [
  {
   "cell_type": "code",
   "execution_count": 1,
   "id": "31c0c937",
   "metadata": {},
   "outputs": [
    {
     "data": {
      "text/html": [
       "<div>\n",
       "<style scoped>\n",
       "    .dataframe tbody tr th:only-of-type {\n",
       "        vertical-align: middle;\n",
       "    }\n",
       "\n",
       "    .dataframe tbody tr th {\n",
       "        vertical-align: top;\n",
       "    }\n",
       "\n",
       "    .dataframe thead th {\n",
       "        text-align: right;\n",
       "    }\n",
       "</style>\n",
       "<table border=\"1\" class=\"dataframe\">\n",
       "  <thead>\n",
       "    <tr style=\"text-align: right;\">\n",
       "      <th></th>\n",
       "      <th>Date</th>\n",
       "      <th>SPX</th>\n",
       "      <th>GLD</th>\n",
       "      <th>USO</th>\n",
       "      <th>SLV</th>\n",
       "      <th>EUR/USD</th>\n",
       "    </tr>\n",
       "  </thead>\n",
       "  <tbody>\n",
       "    <tr>\n",
       "      <th>0</th>\n",
       "      <td>1/2/2008</td>\n",
       "      <td>1447.160034</td>\n",
       "      <td>84.860001</td>\n",
       "      <td>78.470001</td>\n",
       "      <td>15.180</td>\n",
       "      <td>1.471692</td>\n",
       "    </tr>\n",
       "    <tr>\n",
       "      <th>1</th>\n",
       "      <td>1/3/2008</td>\n",
       "      <td>1447.160034</td>\n",
       "      <td>85.570000</td>\n",
       "      <td>78.370003</td>\n",
       "      <td>15.285</td>\n",
       "      <td>1.474491</td>\n",
       "    </tr>\n",
       "    <tr>\n",
       "      <th>2</th>\n",
       "      <td>1/4/2008</td>\n",
       "      <td>1411.630005</td>\n",
       "      <td>85.129997</td>\n",
       "      <td>77.309998</td>\n",
       "      <td>15.167</td>\n",
       "      <td>1.475492</td>\n",
       "    </tr>\n",
       "    <tr>\n",
       "      <th>3</th>\n",
       "      <td>1/7/2008</td>\n",
       "      <td>1416.180054</td>\n",
       "      <td>84.769997</td>\n",
       "      <td>75.500000</td>\n",
       "      <td>15.053</td>\n",
       "      <td>1.468299</td>\n",
       "    </tr>\n",
       "    <tr>\n",
       "      <th>4</th>\n",
       "      <td>1/8/2008</td>\n",
       "      <td>1390.189941</td>\n",
       "      <td>86.779999</td>\n",
       "      <td>76.059998</td>\n",
       "      <td>15.590</td>\n",
       "      <td>1.557099</td>\n",
       "    </tr>\n",
       "  </tbody>\n",
       "</table>\n",
       "</div>"
      ],
      "text/plain": [
       "       Date          SPX        GLD        USO     SLV   EUR/USD\n",
       "0  1/2/2008  1447.160034  84.860001  78.470001  15.180  1.471692\n",
       "1  1/3/2008  1447.160034  85.570000  78.370003  15.285  1.474491\n",
       "2  1/4/2008  1411.630005  85.129997  77.309998  15.167  1.475492\n",
       "3  1/7/2008  1416.180054  84.769997  75.500000  15.053  1.468299\n",
       "4  1/8/2008  1390.189941  86.779999  76.059998  15.590  1.557099"
      ]
     },
     "execution_count": 1,
     "metadata": {},
     "output_type": "execute_result"
    }
   ],
   "source": [
    "import numpy as np\n",
    "import pandas as pd\n",
    "import matplotlib.pyplot as plt\n",
    "import plotly.express as px\n",
    "import seaborn as sns\n",
    "import warnings\n",
    "warnings.filterwarnings('ignore')\n",
    "df=pd.read_csv(\"D:\\Data Analysis\\Gold price\\gld_price_data.csv\")\n",
    "pd.set_option('display.max_columns',None)\n",
    "df.head()"
   ]
  },
  {
   "cell_type": "code",
   "execution_count": 2,
   "id": "601c9a1b",
   "metadata": {},
   "outputs": [
    {
     "data": {
      "text/plain": [
       "(2290, 6)"
      ]
     },
     "execution_count": 2,
     "metadata": {},
     "output_type": "execute_result"
    }
   ],
   "source": [
    "df.shape"
   ]
  },
  {
   "cell_type": "code",
   "execution_count": 3,
   "id": "2c63a6b9",
   "metadata": {},
   "outputs": [
    {
     "data": {
      "text/plain": [
       "13740"
      ]
     },
     "execution_count": 3,
     "metadata": {},
     "output_type": "execute_result"
    }
   ],
   "source": [
    "df.size"
   ]
  },
  {
   "cell_type": "code",
   "execution_count": 4,
   "id": "1be68e68",
   "metadata": {},
   "outputs": [
    {
     "data": {
      "text/plain": [
       "Date        object\n",
       "SPX        float64\n",
       "GLD        float64\n",
       "USO        float64\n",
       "SLV        float64\n",
       "EUR/USD    float64\n",
       "dtype: object"
      ]
     },
     "execution_count": 4,
     "metadata": {},
     "output_type": "execute_result"
    }
   ],
   "source": [
    "df.dtypes"
   ]
  },
  {
   "cell_type": "code",
   "execution_count": 5,
   "id": "b083905e",
   "metadata": {},
   "outputs": [],
   "source": [
    "df['Date']=pd.to_datetime(df['Date'])"
   ]
  },
  {
   "cell_type": "code",
   "execution_count": 6,
   "id": "484e4e1b",
   "metadata": {},
   "outputs": [
    {
     "data": {
      "text/plain": [
       "Date       datetime64[ns]\n",
       "SPX               float64\n",
       "GLD               float64\n",
       "USO               float64\n",
       "SLV               float64\n",
       "EUR/USD           float64\n",
       "dtype: object"
      ]
     },
     "execution_count": 6,
     "metadata": {},
     "output_type": "execute_result"
    }
   ],
   "source": [
    "df.dtypes"
   ]
  },
  {
   "cell_type": "code",
   "execution_count": 7,
   "id": "3f2904a8",
   "metadata": {},
   "outputs": [
    {
     "data": {
      "text/html": [
       "<div>\n",
       "<style scoped>\n",
       "    .dataframe tbody tr th:only-of-type {\n",
       "        vertical-align: middle;\n",
       "    }\n",
       "\n",
       "    .dataframe tbody tr th {\n",
       "        vertical-align: top;\n",
       "    }\n",
       "\n",
       "    .dataframe thead th {\n",
       "        text-align: right;\n",
       "    }\n",
       "</style>\n",
       "<table border=\"1\" class=\"dataframe\">\n",
       "  <thead>\n",
       "    <tr style=\"text-align: right;\">\n",
       "      <th></th>\n",
       "      <th>SPX</th>\n",
       "      <th>GLD</th>\n",
       "      <th>USO</th>\n",
       "      <th>SLV</th>\n",
       "      <th>EUR/USD</th>\n",
       "    </tr>\n",
       "  </thead>\n",
       "  <tbody>\n",
       "    <tr>\n",
       "      <th>count</th>\n",
       "      <td>2290.000000</td>\n",
       "      <td>2290.000000</td>\n",
       "      <td>2290.000000</td>\n",
       "      <td>2290.000000</td>\n",
       "      <td>2290.000000</td>\n",
       "    </tr>\n",
       "    <tr>\n",
       "      <th>mean</th>\n",
       "      <td>1654.315776</td>\n",
       "      <td>122.732875</td>\n",
       "      <td>31.842221</td>\n",
       "      <td>20.084997</td>\n",
       "      <td>1.283653</td>\n",
       "    </tr>\n",
       "    <tr>\n",
       "      <th>std</th>\n",
       "      <td>519.111540</td>\n",
       "      <td>23.283346</td>\n",
       "      <td>19.523517</td>\n",
       "      <td>7.092566</td>\n",
       "      <td>0.131547</td>\n",
       "    </tr>\n",
       "    <tr>\n",
       "      <th>min</th>\n",
       "      <td>676.530029</td>\n",
       "      <td>70.000000</td>\n",
       "      <td>7.960000</td>\n",
       "      <td>8.850000</td>\n",
       "      <td>1.039047</td>\n",
       "    </tr>\n",
       "    <tr>\n",
       "      <th>25%</th>\n",
       "      <td>1239.874969</td>\n",
       "      <td>109.725000</td>\n",
       "      <td>14.380000</td>\n",
       "      <td>15.570000</td>\n",
       "      <td>1.171313</td>\n",
       "    </tr>\n",
       "    <tr>\n",
       "      <th>50%</th>\n",
       "      <td>1551.434998</td>\n",
       "      <td>120.580002</td>\n",
       "      <td>33.869999</td>\n",
       "      <td>17.268500</td>\n",
       "      <td>1.303297</td>\n",
       "    </tr>\n",
       "    <tr>\n",
       "      <th>75%</th>\n",
       "      <td>2073.010070</td>\n",
       "      <td>132.840004</td>\n",
       "      <td>37.827501</td>\n",
       "      <td>22.882500</td>\n",
       "      <td>1.369971</td>\n",
       "    </tr>\n",
       "    <tr>\n",
       "      <th>max</th>\n",
       "      <td>2872.870117</td>\n",
       "      <td>184.589996</td>\n",
       "      <td>117.480003</td>\n",
       "      <td>47.259998</td>\n",
       "      <td>1.598798</td>\n",
       "    </tr>\n",
       "  </tbody>\n",
       "</table>\n",
       "</div>"
      ],
      "text/plain": [
       "               SPX          GLD          USO          SLV      EUR/USD\n",
       "count  2290.000000  2290.000000  2290.000000  2290.000000  2290.000000\n",
       "mean   1654.315776   122.732875    31.842221    20.084997     1.283653\n",
       "std     519.111540    23.283346    19.523517     7.092566     0.131547\n",
       "min     676.530029    70.000000     7.960000     8.850000     1.039047\n",
       "25%    1239.874969   109.725000    14.380000    15.570000     1.171313\n",
       "50%    1551.434998   120.580002    33.869999    17.268500     1.303297\n",
       "75%    2073.010070   132.840004    37.827501    22.882500     1.369971\n",
       "max    2872.870117   184.589996   117.480003    47.259998     1.598798"
      ]
     },
     "execution_count": 7,
     "metadata": {},
     "output_type": "execute_result"
    }
   ],
   "source": [
    "df.describe()"
   ]
  },
  {
   "cell_type": "code",
   "execution_count": 8,
   "id": "1dbcea49",
   "metadata": {},
   "outputs": [
    {
     "data": {
      "text/plain": [
       "Date       0\n",
       "SPX        0\n",
       "GLD        0\n",
       "USO        0\n",
       "SLV        0\n",
       "EUR/USD    0\n",
       "dtype: int64"
      ]
     },
     "execution_count": 8,
     "metadata": {},
     "output_type": "execute_result"
    }
   ],
   "source": [
    "df.isnull().sum()"
   ]
  },
  {
   "cell_type": "code",
   "execution_count": 9,
   "id": "6a0b42c9",
   "metadata": {},
   "outputs": [
    {
     "data": {
      "text/plain": [
       "Index(['Date', 'SPX', 'GLD', 'USO', 'SLV', 'EUR/USD'], dtype='object')"
      ]
     },
     "execution_count": 9,
     "metadata": {},
     "output_type": "execute_result"
    }
   ],
   "source": [
    "df.columns"
   ]
  },
  {
   "cell_type": "code",
   "execution_count": 10,
   "id": "60ed7fee",
   "metadata": {},
   "outputs": [
    {
     "data": {
      "text/html": [
       "<div>\n",
       "<style scoped>\n",
       "    .dataframe tbody tr th:only-of-type {\n",
       "        vertical-align: middle;\n",
       "    }\n",
       "\n",
       "    .dataframe tbody tr th {\n",
       "        vertical-align: top;\n",
       "    }\n",
       "\n",
       "    .dataframe thead th {\n",
       "        text-align: right;\n",
       "    }\n",
       "</style>\n",
       "<table border=\"1\" class=\"dataframe\">\n",
       "  <thead>\n",
       "    <tr style=\"text-align: right;\">\n",
       "      <th></th>\n",
       "      <th>Date</th>\n",
       "      <th>SPX</th>\n",
       "      <th>GLD</th>\n",
       "      <th>USO</th>\n",
       "      <th>SLV</th>\n",
       "      <th>EUR/USD</th>\n",
       "    </tr>\n",
       "  </thead>\n",
       "  <tbody>\n",
       "    <tr>\n",
       "      <th>0</th>\n",
       "      <td>2008-01-02</td>\n",
       "      <td>1447.160034</td>\n",
       "      <td>84.860001</td>\n",
       "      <td>78.470001</td>\n",
       "      <td>15.180</td>\n",
       "      <td>1.471692</td>\n",
       "    </tr>\n",
       "    <tr>\n",
       "      <th>1</th>\n",
       "      <td>2008-01-03</td>\n",
       "      <td>1447.160034</td>\n",
       "      <td>85.570000</td>\n",
       "      <td>78.370003</td>\n",
       "      <td>15.285</td>\n",
       "      <td>1.474491</td>\n",
       "    </tr>\n",
       "    <tr>\n",
       "      <th>2</th>\n",
       "      <td>2008-01-04</td>\n",
       "      <td>1411.630005</td>\n",
       "      <td>85.129997</td>\n",
       "      <td>77.309998</td>\n",
       "      <td>15.167</td>\n",
       "      <td>1.475492</td>\n",
       "    </tr>\n",
       "    <tr>\n",
       "      <th>3</th>\n",
       "      <td>2008-01-07</td>\n",
       "      <td>1416.180054</td>\n",
       "      <td>84.769997</td>\n",
       "      <td>75.500000</td>\n",
       "      <td>15.053</td>\n",
       "      <td>1.468299</td>\n",
       "    </tr>\n",
       "    <tr>\n",
       "      <th>4</th>\n",
       "      <td>2008-01-08</td>\n",
       "      <td>1390.189941</td>\n",
       "      <td>86.779999</td>\n",
       "      <td>76.059998</td>\n",
       "      <td>15.590</td>\n",
       "      <td>1.557099</td>\n",
       "    </tr>\n",
       "  </tbody>\n",
       "</table>\n",
       "</div>"
      ],
      "text/plain": [
       "        Date          SPX        GLD        USO     SLV   EUR/USD\n",
       "0 2008-01-02  1447.160034  84.860001  78.470001  15.180  1.471692\n",
       "1 2008-01-03  1447.160034  85.570000  78.370003  15.285  1.474491\n",
       "2 2008-01-04  1411.630005  85.129997  77.309998  15.167  1.475492\n",
       "3 2008-01-07  1416.180054  84.769997  75.500000  15.053  1.468299\n",
       "4 2008-01-08  1390.189941  86.779999  76.059998  15.590  1.557099"
      ]
     },
     "execution_count": 10,
     "metadata": {},
     "output_type": "execute_result"
    }
   ],
   "source": [
    "df.head()"
   ]
  },
  {
   "cell_type": "code",
   "execution_count": 11,
   "id": "fe28a76b",
   "metadata": {},
   "outputs": [
    {
     "data": {
      "text/html": [
       "<div>\n",
       "<style scoped>\n",
       "    .dataframe tbody tr th:only-of-type {\n",
       "        vertical-align: middle;\n",
       "    }\n",
       "\n",
       "    .dataframe tbody tr th {\n",
       "        vertical-align: top;\n",
       "    }\n",
       "\n",
       "    .dataframe thead th {\n",
       "        text-align: right;\n",
       "    }\n",
       "</style>\n",
       "<table border=\"1\" class=\"dataframe\">\n",
       "  <thead>\n",
       "    <tr style=\"text-align: right;\">\n",
       "      <th></th>\n",
       "      <th>Date</th>\n",
       "      <th>SPX</th>\n",
       "      <th>GLD</th>\n",
       "      <th>USO</th>\n",
       "      <th>SLV</th>\n",
       "      <th>EUR/USD</th>\n",
       "    </tr>\n",
       "  </thead>\n",
       "  <tbody>\n",
       "    <tr>\n",
       "      <th>2285</th>\n",
       "      <td>2018-05-08</td>\n",
       "      <td>2671.919922</td>\n",
       "      <td>124.589996</td>\n",
       "      <td>14.0600</td>\n",
       "      <td>15.5100</td>\n",
       "      <td>1.186789</td>\n",
       "    </tr>\n",
       "    <tr>\n",
       "      <th>2286</th>\n",
       "      <td>2018-05-09</td>\n",
       "      <td>2697.790039</td>\n",
       "      <td>124.330002</td>\n",
       "      <td>14.3700</td>\n",
       "      <td>15.5300</td>\n",
       "      <td>1.184722</td>\n",
       "    </tr>\n",
       "    <tr>\n",
       "      <th>2287</th>\n",
       "      <td>2018-05-10</td>\n",
       "      <td>2723.070068</td>\n",
       "      <td>125.180000</td>\n",
       "      <td>14.4100</td>\n",
       "      <td>15.7400</td>\n",
       "      <td>1.191753</td>\n",
       "    </tr>\n",
       "    <tr>\n",
       "      <th>2288</th>\n",
       "      <td>2018-05-14</td>\n",
       "      <td>2730.129883</td>\n",
       "      <td>124.489998</td>\n",
       "      <td>14.3800</td>\n",
       "      <td>15.5600</td>\n",
       "      <td>1.193118</td>\n",
       "    </tr>\n",
       "    <tr>\n",
       "      <th>2289</th>\n",
       "      <td>2018-05-16</td>\n",
       "      <td>2725.780029</td>\n",
       "      <td>122.543800</td>\n",
       "      <td>14.4058</td>\n",
       "      <td>15.4542</td>\n",
       "      <td>1.182033</td>\n",
       "    </tr>\n",
       "  </tbody>\n",
       "</table>\n",
       "</div>"
      ],
      "text/plain": [
       "           Date          SPX         GLD      USO      SLV   EUR/USD\n",
       "2285 2018-05-08  2671.919922  124.589996  14.0600  15.5100  1.186789\n",
       "2286 2018-05-09  2697.790039  124.330002  14.3700  15.5300  1.184722\n",
       "2287 2018-05-10  2723.070068  125.180000  14.4100  15.7400  1.191753\n",
       "2288 2018-05-14  2730.129883  124.489998  14.3800  15.5600  1.193118\n",
       "2289 2018-05-16  2725.780029  122.543800  14.4058  15.4542  1.182033"
      ]
     },
     "execution_count": 11,
     "metadata": {},
     "output_type": "execute_result"
    }
   ],
   "source": [
    "df.tail()"
   ]
  },
  {
   "cell_type": "code",
   "execution_count": 12,
   "id": "e1f8737b",
   "metadata": {},
   "outputs": [
    {
     "data": {
      "text/plain": [
       "<AxesSubplot:>"
      ]
     },
     "execution_count": 12,
     "metadata": {},
     "output_type": "execute_result"
    },
    {
     "data": {
      "image/png": "[encoded data removed]",
      "text/plain": [
       "<Figure size 640x480 with 2 Axes>"
      ]
     },
     "metadata": {},
     "output_type": "display_data"
    }
   ],
   "source": [
    "sns.heatmap(data=df.corr(),annot=True)"
   ]
  },
  {
   "cell_type": "code",
   "execution_count": 13,
   "id": "9fcc8a51",
   "metadata": {},
   "outputs": [
    {
     "data": {
      "text/html": [
       "<div>\n",
       "<style scoped>\n",
       "    .dataframe tbody tr th:only-of-type {\n",
       "        vertical-align: middle;\n",
       "    }\n",
       "\n",
       "    .dataframe tbody tr th {\n",
       "        vertical-align: top;\n",
       "    }\n",
       "\n",
       "    .dataframe thead th {\n",
       "        text-align: right;\n",
       "    }\n",
       "</style>\n",
       "<table border=\"1\" class=\"dataframe\">\n",
       "  <thead>\n",
       "    <tr style=\"text-align: right;\">\n",
       "      <th></th>\n",
       "      <th>SPX</th>\n",
       "      <th>GLD</th>\n",
       "      <th>USO</th>\n",
       "      <th>SLV</th>\n",
       "      <th>EUR/USD</th>\n",
       "    </tr>\n",
       "  </thead>\n",
       "  <tbody>\n",
       "    <tr>\n",
       "      <th>SPX</th>\n",
       "      <td>1.000000</td>\n",
       "      <td>0.049345</td>\n",
       "      <td>-0.591573</td>\n",
       "      <td>-0.274055</td>\n",
       "      <td>-0.672017</td>\n",
       "    </tr>\n",
       "    <tr>\n",
       "      <th>GLD</th>\n",
       "      <td>0.049345</td>\n",
       "      <td>1.000000</td>\n",
       "      <td>-0.186360</td>\n",
       "      <td>0.866632</td>\n",
       "      <td>-0.024375</td>\n",
       "    </tr>\n",
       "    <tr>\n",
       "      <th>USO</th>\n",
       "      <td>-0.591573</td>\n",
       "      <td>-0.186360</td>\n",
       "      <td>1.000000</td>\n",
       "      <td>0.167547</td>\n",
       "      <td>0.829317</td>\n",
       "    </tr>\n",
       "    <tr>\n",
       "      <th>SLV</th>\n",
       "      <td>-0.274055</td>\n",
       "      <td>0.866632</td>\n",
       "      <td>0.167547</td>\n",
       "      <td>1.000000</td>\n",
       "      <td>0.321631</td>\n",
       "    </tr>\n",
       "    <tr>\n",
       "      <th>EUR/USD</th>\n",
       "      <td>-0.672017</td>\n",
       "      <td>-0.024375</td>\n",
       "      <td>0.829317</td>\n",
       "      <td>0.321631</td>\n",
       "      <td>1.000000</td>\n",
       "    </tr>\n",
       "  </tbody>\n",
       "</table>\n",
       "</div>"
      ],
      "text/plain": [
       "              SPX       GLD       USO       SLV   EUR/USD\n",
       "SPX      1.000000  0.049345 -0.591573 -0.274055 -0.672017\n",
       "GLD      0.049345  1.000000 -0.186360  0.866632 -0.024375\n",
       "USO     -0.591573 -0.186360  1.000000  0.167547  0.829317\n",
       "SLV     -0.274055  0.866632  0.167547  1.000000  0.321631\n",
       "EUR/USD -0.672017 -0.024375  0.829317  0.321631  1.000000"
      ]
     },
     "execution_count": 13,
     "metadata": {},
     "output_type": "execute_result"
    }
   ],
   "source": [
    "df.corr()"
   ]
  },
  {
   "cell_type": "code",
   "execution_count": 14,
   "id": "3f45eece",
   "metadata": {},
   "outputs": [
    {
     "name": "stdout",
     "output_type": "stream",
     "text": [
      "SPX        0.049345\n",
      "GLD        1.000000\n",
      "USO       -0.186360\n",
      "SLV        0.866632\n",
      "EUR/USD   -0.024375\n",
      "Name: GLD, dtype: float64\n"
     ]
    }
   ],
   "source": [
    "print(df.corr()['GLD'])"
   ]
  },
  {
   "cell_type": "code",
   "execution_count": 15,
   "id": "2429ae70",
   "metadata": {},
   "outputs": [
    {
     "name": "stdout",
     "output_type": "stream",
     "text": [
      "Date features has 2290 unique values\n",
      "SPX features has 2277 unique values\n",
      "GLD features has 1930 unique values\n",
      "USO features has 1514 unique values\n",
      "SLV features has 1331 unique values\n",
      "EUR/USD features has 2066 unique values\n"
     ]
    }
   ],
   "source": [
    "for features in df.columns:\n",
    "    print('{} features has {} unique values'.format(features,df[features].nunique()))"
   ]
  },
  {
   "cell_type": "code",
   "execution_count": 16,
   "id": "4ca1a8ef",
   "metadata": {},
   "outputs": [
    {
     "data": {
      "text/plain": [
       "<AxesSubplot:xlabel='GLD', ylabel='Density'>"
      ]
     },
     "execution_count": 16,
     "metadata": {},
     "output_type": "execute_result"
    },
    {
     "data": {
      "image/png": "[encoded data removed]",
      "text/plain": [
       "<Figure size 640x480 with 1 Axes>"
      ]
     },
     "metadata": {},
     "output_type": "display_data"
    }
   ],
   "source": [
    "sns.distplot(df.GLD,color='green')"
   ]
  },
  {
   "cell_type": "code",
   "execution_count": 17,
   "id": "64b2a446",
   "metadata": {},
   "outputs": [
    {
     "data": {
      "text/html": [
       "<div>\n",
       "<style scoped>\n",
       "    .dataframe tbody tr th:only-of-type {\n",
       "        vertical-align: middle;\n",
       "    }\n",
       "\n",
       "    .dataframe tbody tr th {\n",
       "        vertical-align: top;\n",
       "    }\n",
       "\n",
       "    .dataframe thead th {\n",
       "        text-align: right;\n",
       "    }\n",
       "</style>\n",
       "<table border=\"1\" class=\"dataframe\">\n",
       "  <thead>\n",
       "    <tr style=\"text-align: right;\">\n",
       "      <th></th>\n",
       "      <th>SPX</th>\n",
       "      <th>USO</th>\n",
       "      <th>SLV</th>\n",
       "      <th>EUR/USD</th>\n",
       "    </tr>\n",
       "  </thead>\n",
       "  <tbody>\n",
       "    <tr>\n",
       "      <th>0</th>\n",
       "      <td>1447.160034</td>\n",
       "      <td>78.470001</td>\n",
       "      <td>15.1800</td>\n",
       "      <td>1.471692</td>\n",
       "    </tr>\n",
       "    <tr>\n",
       "      <th>1</th>\n",
       "      <td>1447.160034</td>\n",
       "      <td>78.370003</td>\n",
       "      <td>15.2850</td>\n",
       "      <td>1.474491</td>\n",
       "    </tr>\n",
       "    <tr>\n",
       "      <th>2</th>\n",
       "      <td>1411.630005</td>\n",
       "      <td>77.309998</td>\n",
       "      <td>15.1670</td>\n",
       "      <td>1.475492</td>\n",
       "    </tr>\n",
       "    <tr>\n",
       "      <th>3</th>\n",
       "      <td>1416.180054</td>\n",
       "      <td>75.500000</td>\n",
       "      <td>15.0530</td>\n",
       "      <td>1.468299</td>\n",
       "    </tr>\n",
       "    <tr>\n",
       "      <th>4</th>\n",
       "      <td>1390.189941</td>\n",
       "      <td>76.059998</td>\n",
       "      <td>15.5900</td>\n",
       "      <td>1.557099</td>\n",
       "    </tr>\n",
       "    <tr>\n",
       "      <th>...</th>\n",
       "      <td>...</td>\n",
       "      <td>...</td>\n",
       "      <td>...</td>\n",
       "      <td>...</td>\n",
       "    </tr>\n",
       "    <tr>\n",
       "      <th>2285</th>\n",
       "      <td>2671.919922</td>\n",
       "      <td>14.060000</td>\n",
       "      <td>15.5100</td>\n",
       "      <td>1.186789</td>\n",
       "    </tr>\n",
       "    <tr>\n",
       "      <th>2286</th>\n",
       "      <td>2697.790039</td>\n",
       "      <td>14.370000</td>\n",
       "      <td>15.5300</td>\n",
       "      <td>1.184722</td>\n",
       "    </tr>\n",
       "    <tr>\n",
       "      <th>2287</th>\n",
       "      <td>2723.070068</td>\n",
       "      <td>14.410000</td>\n",
       "      <td>15.7400</td>\n",
       "      <td>1.191753</td>\n",
       "    </tr>\n",
       "    <tr>\n",
       "      <th>2288</th>\n",
       "      <td>2730.129883</td>\n",
       "      <td>14.380000</td>\n",
       "      <td>15.5600</td>\n",
       "      <td>1.193118</td>\n",
       "    </tr>\n",
       "    <tr>\n",
       "      <th>2289</th>\n",
       "      <td>2725.780029</td>\n",
       "      <td>14.405800</td>\n",
       "      <td>15.4542</td>\n",
       "      <td>1.182033</td>\n",
       "    </tr>\n",
       "  </tbody>\n",
       "</table>\n",
       "<p>2290 rows × 4 columns</p>\n",
       "</div>"
      ],
      "text/plain": [
       "              SPX        USO      SLV   EUR/USD\n",
       "0     1447.160034  78.470001  15.1800  1.471692\n",
       "1     1447.160034  78.370003  15.2850  1.474491\n",
       "2     1411.630005  77.309998  15.1670  1.475492\n",
       "3     1416.180054  75.500000  15.0530  1.468299\n",
       "4     1390.189941  76.059998  15.5900  1.557099\n",
       "...           ...        ...      ...       ...\n",
       "2285  2671.919922  14.060000  15.5100  1.186789\n",
       "2286  2697.790039  14.370000  15.5300  1.184722\n",
       "2287  2723.070068  14.410000  15.7400  1.191753\n",
       "2288  2730.129883  14.380000  15.5600  1.193118\n",
       "2289  2725.780029  14.405800  15.4542  1.182033\n",
       "\n",
       "[2290 rows x 4 columns]"
      ]
     },
     "execution_count": 17,
     "metadata": {},
     "output_type": "execute_result"
    }
   ],
   "source": [
    "k=df.drop(['Date','GLD'],axis=1)\n",
    "m=df['GLD']\n",
    "k"
   ]
  },
  {
   "cell_type": "code",
   "execution_count": 18,
   "id": "f66f7f26",
   "metadata": {},
   "outputs": [
    {
     "data": {
      "text/plain": [
       "0        84.860001\n",
       "1        85.570000\n",
       "2        85.129997\n",
       "3        84.769997\n",
       "4        86.779999\n",
       "           ...    \n",
       "2285    124.589996\n",
       "2286    124.330002\n",
       "2287    125.180000\n",
       "2288    124.489998\n",
       "2289    122.543800\n",
       "Name: GLD, Length: 2290, dtype: float64"
      ]
     },
     "execution_count": 18,
     "metadata": {},
     "output_type": "execute_result"
    }
   ],
   "source": [
    "m"
   ]
  },
  {
   "cell_type": "code",
   "execution_count": 19,
   "id": "d9217569",
   "metadata": {},
   "outputs": [
    {
     "data": {
      "text/html": [
       "<div>\n",
       "<style scoped>\n",
       "    .dataframe tbody tr th:only-of-type {\n",
       "        vertical-align: middle;\n",
       "    }\n",
       "\n",
       "    .dataframe tbody tr th {\n",
       "        vertical-align: top;\n",
       "    }\n",
       "\n",
       "    .dataframe thead th {\n",
       "        text-align: right;\n",
       "    }\n",
       "</style>\n",
       "<table border=\"1\" class=\"dataframe\">\n",
       "  <thead>\n",
       "    <tr style=\"text-align: right;\">\n",
       "      <th></th>\n",
       "      <th>SPX</th>\n",
       "      <th>USO</th>\n",
       "      <th>SLV</th>\n",
       "      <th>EUR/USD</th>\n",
       "    </tr>\n",
       "  </thead>\n",
       "  <tbody>\n",
       "    <tr>\n",
       "      <th>0</th>\n",
       "      <td>1447.160034</td>\n",
       "      <td>78.470001</td>\n",
       "      <td>15.180</td>\n",
       "      <td>1.471692</td>\n",
       "    </tr>\n",
       "    <tr>\n",
       "      <th>1</th>\n",
       "      <td>1447.160034</td>\n",
       "      <td>78.370003</td>\n",
       "      <td>15.285</td>\n",
       "      <td>1.474491</td>\n",
       "    </tr>\n",
       "    <tr>\n",
       "      <th>2</th>\n",
       "      <td>1411.630005</td>\n",
       "      <td>77.309998</td>\n",
       "      <td>15.167</td>\n",
       "      <td>1.475492</td>\n",
       "    </tr>\n",
       "    <tr>\n",
       "      <th>3</th>\n",
       "      <td>1416.180054</td>\n",
       "      <td>75.500000</td>\n",
       "      <td>15.053</td>\n",
       "      <td>1.468299</td>\n",
       "    </tr>\n",
       "    <tr>\n",
       "      <th>4</th>\n",
       "      <td>1390.189941</td>\n",
       "      <td>76.059998</td>\n",
       "      <td>15.590</td>\n",
       "      <td>1.557099</td>\n",
       "    </tr>\n",
       "  </tbody>\n",
       "</table>\n",
       "</div>"
      ],
      "text/plain": [
       "           SPX        USO     SLV   EUR/USD\n",
       "0  1447.160034  78.470001  15.180  1.471692\n",
       "1  1447.160034  78.370003  15.285  1.474491\n",
       "2  1411.630005  77.309998  15.167  1.475492\n",
       "3  1416.180054  75.500000  15.053  1.468299\n",
       "4  1390.189941  76.059998  15.590  1.557099"
      ]
     },
     "execution_count": 19,
     "metadata": {},
     "output_type": "execute_result"
    }
   ],
   "source": [
    "k.head()"
   ]
  },
  {
   "cell_type": "code",
   "execution_count": 20,
   "id": "6a0db409",
   "metadata": {},
   "outputs": [
    {
     "data": {
      "text/plain": [
       "0    84.860001\n",
       "1    85.570000\n",
       "2    85.129997\n",
       "3    84.769997\n",
       "4    86.779999\n",
       "Name: GLD, dtype: float64"
      ]
     },
     "execution_count": 20,
     "metadata": {},
     "output_type": "execute_result"
    }
   ],
   "source": [
    "m.head()"
   ]
  },
  {
   "cell_type": "markdown",
   "id": "d1c33526",
   "metadata": {},
   "source": [
    "# Implemeting Training and Testing"
   ]
  },
  {
   "cell_type": "code",
   "execution_count": 21,
   "id": "21c4b9f4",
   "metadata": {},
   "outputs": [
    {
     "data": {
      "text/plain": [
       "array([[1.44716003e+03, 7.84700010e+01, 1.51800000e+01, 1.47169200e+00],\n",
       "       [1.44716003e+03, 7.83700030e+01, 1.52850000e+01, 1.47449100e+00],\n",
       "       [1.41163000e+03, 7.73099980e+01, 1.51670000e+01, 1.47549200e+00],\n",
       "       ...,\n",
       "       [2.72307007e+03, 1.44100000e+01, 1.57400000e+01, 1.19175300e+00],\n",
       "       [2.73012988e+03, 1.43800000e+01, 1.55600000e+01, 1.19311800e+00],\n",
       "       [2.72578003e+03, 1.44058000e+01, 1.54542000e+01, 1.18203300e+00]])"
      ]
     },
     "execution_count": 21,
     "metadata": {},
     "output_type": "execute_result"
    }
   ],
   "source": [
    "x=k.iloc[:,:].values\n",
    "x"
   ]
  },
  {
   "cell_type": "code",
   "execution_count": 22,
   "id": "211d0413",
   "metadata": {},
   "outputs": [
    {
     "data": {
      "text/plain": [
       "array([ 84,  85,  85, ..., 125, 124, 122])"
      ]
     },
     "execution_count": 22,
     "metadata": {},
     "output_type": "execute_result"
    }
   ],
   "source": [
    "y=m.iloc[:,].values.astype('int')\n",
    "y"
   ]
  },
  {
   "cell_type": "code",
   "execution_count": 23,
   "id": "d2afdd95",
   "metadata": {},
   "outputs": [
    {
     "data": {
      "text/plain": [
       "array([[2.64805005e+03, 1.38000000e+01, 1.53800000e+01, 1.20812300e+00],\n",
       "       [2.04596997e+03, 1.33500000e+01, 1.36400000e+01, 1.07629900e+00],\n",
       "       [1.10234998e+03, 3.57300000e+01, 1.70900000e+01, 1.47294900e+00],\n",
       "       ...,\n",
       "       [1.46242004e+03, 3.38200000e+01, 2.99200000e+01, 1.31978400e+00],\n",
       "       [8.27159973e+02, 2.69100000e+01, 1.29800000e+01, 1.29140600e+00],\n",
       "       [1.37751001e+03, 3.12999990e+01, 3.13799990e+01, 1.27599800e+00]])"
      ]
     },
     "execution_count": 23,
     "metadata": {},
     "output_type": "execute_result"
    }
   ],
   "source": [
    "from sklearn.model_selection import train_test_split\n",
    "x_train,x_test,y_train,y_test=train_test_split(x,y,test_size=0.20,random_state=1)\n",
    "x_train"
   ]
  },
  {
   "cell_type": "code",
   "execution_count": 24,
   "id": "0007e350",
   "metadata": {},
   "outputs": [
    {
     "data": {
      "text/plain": [
       "array([[ 1.89799481, -0.9162265 , -0.65044128, -0.56820195],\n",
       "       [ 0.74485541, -0.93898837, -0.89559865, -1.56823867],\n",
       "       [-1.06242144,  0.19303503, -0.40951076,  1.44080797],\n",
       "       ...,\n",
       "       [-0.37279394,  0.09642356,  1.39817262,  0.27887521],\n",
       "       [-1.58948161, -0.25309752, -0.98858938,  0.06359543],\n",
       "       [-0.53541866, -0.03104293,  1.60387923, -0.05329198]])"
      ]
     },
     "execution_count": 24,
     "metadata": {},
     "output_type": "execute_result"
    }
   ],
   "source": [
    "from sklearn.preprocessing import StandardScaler\n",
    "scaler=StandardScaler()\n",
    "x_train=scaler.fit_transform(x_train)\n",
    "x_test=scaler.transform(x_test)\n",
    "x_train"
   ]
  },
  {
   "cell_type": "code",
   "execution_count": 25,
   "id": "f1f77d00",
   "metadata": {},
   "outputs": [
    {
     "data": {
      "text/plain": [
       "array([[ 1.14895593, -1.02649509, -0.53631616, -1.73178091],\n",
       "       [-0.12199084,  0.07821402,  0.94449072,  0.21584189],\n",
       "       [-0.63173712,  0.36804843,  1.84762794,  0.68590254],\n",
       "       ...,\n",
       "       [ 0.20118997,  0.18393023,  0.23719748,  0.73969593],\n",
       "       [-0.47558598, -0.0143509 ,  1.50947956,  0.10233031],\n",
       "       [ 0.7089443 , -1.09933306, -0.72229775, -1.30574269]])"
      ]
     },
     "execution_count": 25,
     "metadata": {},
     "output_type": "execute_result"
    }
   ],
   "source": [
    "x_test"
   ]
  },
  {
   "cell_type": "code",
   "execution_count": 26,
   "id": "58381c6a",
   "metadata": {},
   "outputs": [
    {
     "data": {
      "text/plain": [
       "array([112.45, 146.27, 140.22, 112.18, 113.16,  95.14, 111.48,  93.03,\n",
       "       120.32, 126.64, 147.24, 119.85, 118.83,  87.59,  95.27,  92.24,\n",
       "       116.55,  88.47, 125.01, 114.35, 118.86, 152.14, 122.03, 119.37,\n",
       "       170.88, 107.82, 119.75,  86.83,  87.47,  87.95, 120.62, 153.96,\n",
       "       147.69, 125.44, 126.49,  90.68, 158.35, 121.08, 106.26, 143.1 ,\n",
       "        92.15, 127.18, 116.96, 151.93, 118.96,  90.78,  79.77, 119.7 ,\n",
       "       132.35, 118.74, 126.82, 165.42, 152.82,  92.19, 148.48, 151.61,\n",
       "       112.71, 112.38,  86.5 , 127.11, 124.74, 151.54, 114.01, 110.09,\n",
       "       160.76, 116.64, 107.63, 131.4 , 133.69, 124.82, 116.67, 149.51,\n",
       "       155.87, 168.49, 109.64, 140.39, 101.61, 113.94, 119.03, 123.54,\n",
       "       117.18,  91.73, 140.23, 106.22, 124.7 ,  91.94, 132.87, 125.15,\n",
       "       125.08, 125.24, 112.94, 119.91, 161.03,  79.81, 117.64, 114.92,\n",
       "       135.28, 108.39, 107.97, 125.65, 126.75, 109.7 , 159.39, 122.39,\n",
       "       120.56, 128.11, 146.19,  92.04, 124.21, 118.98, 108.56, 134.6 ,\n",
       "       120.34,  97.59, 115.18, 109.17, 125.67, 113.36, 106.28, 173.09,\n",
       "        95.75, 126.19, 111.68, 111.88, 123.86, 167.44, 114.2 , 134.35,\n",
       "       125.08, 163.15, 120.15,  88.11, 127.08, 127.28, 114.05, 122.32,\n",
       "       125.56, 166.92, 111.83, 119.29, 125.65, 125.92, 167.43, 159.5 ,\n",
       "       170.82, 120.71, 121.15, 163.54,  98.53,  78.94, 115.68, 112.89,\n",
       "       118.23, 113.07, 119.61, 119.55, 104.11, 170.67, 143.33, 166.41,\n",
       "       117.56, 125.67, 125.51, 166.51, 116.72, 132.17, 135.04, 131.58,\n",
       "       112.77, 133.1 , 153.43, 135.84,  96.17, 107.72, 123.97, 149.59,\n",
       "        98.36, 130.75, 103.98, 120.95, 145.81, 108.87, 126.42, 126.23,\n",
       "       112.71, 140.1 , 151.52, 164.83, 119.27, 104.21, 115.16, 113.01,\n",
       "       106.38, 123.63, 153.42, 128.53, 125.53, 148.22, 142.19,  83.79,\n",
       "       124.11, 125.45, 123.78, 105.12, 170.36, 175.86,  77.08, 118.9 ,\n",
       "        92.65, 117.6 , 125.22, 117.14, 123.47, 151.16, 151.77,  90.85,\n",
       "       130.57, 108.45, 110.24, 108.4 , 168.37, 128.42, 102.07, 124.08,\n",
       "       111.12,  89.6 , 146.46, 120.53, 119.33, 103.21, 124.55,  94.  ,\n",
       "       121.16, 115.86, 134.72, 123.69, 170.43,  82.7 , 167.26, 123.97,\n",
       "       109.42, 125.67, 122.43,  82.67, 123.5 , 113.05,  90.66, 113.21,\n",
       "       112.02, 170.05, 106.79,  91.31, 118.38, 108.73,  90.11,  75.61,\n",
       "       160.71, 114.08, 140.7 ,  96.37, 120.29, 150.62, 159.14, 113.12,\n",
       "       115.53, 154.7 , 117.5 , 149.82, 175.21,  87.28, 111.95, 152.46,\n",
       "       107.97, 158.32, 113.8 , 138.88, 121.31, 115.58, 113.59,  85.72,\n",
       "        74.85, 131.61, 120.55, 118.77, 111.44, 153.59, 152.22, 122.25,\n",
       "       139.61, 152.08, 106.36,  91.31, 121.48, 154.71, 160.69, 155.84,\n",
       "        89.55, 134.38, 151.25, 108.4 , 152.47,  84.34, 115.87, 119.33,\n",
       "       126.73, 151.37, 116.58, 127.03, 114.05, 102.81, 113.77,  95.37,\n",
       "       167.42, 148.95,  86.34, 127.7 , 110.52, 164.27, 121.3 , 107.1 ,\n",
       "       102.33, 114.94, 111.43,  75.22,  90.79, 121.71,  86.36, 111.88,\n",
       "       171.43, 164.95,  90.21, 138.52,  89.55, 117.8 , 108.12, 124.88,\n",
       "       117.69, 123.76, 107.21, 130.63, 113.66, 160.03, 107.96, 116.36,\n",
       "       151.84, 147.3 ,  93.45,  90.97, 124.92,  87.68, 113.44, 114.38,\n",
       "       166.09, 120.31, 106.18, 160.32,  77.02, 123.85,  75.28, 123.56,\n",
       "       157.33, 130.91, 161.12, 120.07, 104.89, 155.07, 125.18, 156.91,\n",
       "       139.66, 130.84, 132.26, 114.07, 113.73, 126.24, 128.97, 163.3 ,\n",
       "        89.44, 168.56, 111.55, 118.33, 135.24, 121.29, 162.43, 119.88,\n",
       "       114.01, 140.25, 131.42, 114.04, 119.87, 124.46, 124.41, 106.61,\n",
       "       103.69,  71.8 , 158.26, 147.91,  85.85, 157.75, 152.99, 121.47,\n",
       "       113.51, 120.58, 161.53, 131.34, 117.89, 157.9 , 162.42, 124.01,\n",
       "       126.55, 125.13, 119.85, 151.42,  86.77, 102.57, 131.74, 162.94,\n",
       "       131.02,  88.75, 160.62, 115.77,  97.01, 126.29, 139.65, 121.8 ,\n",
       "       118.65, 110.81,  76.57, 121.03, 102.13, 159.61, 116.79, 126.03,\n",
       "       125.23,  93.25, 132.07, 156.28, 103.01,  93.08, 126.4 ,  92.66,\n",
       "       112.92, 125.76, 121.76, 107.56, 118.56, 147.68, 148.94, 133.84,\n",
       "       167.7 , 100.64, 117.37, 126.98, 114.12, 114.9 , 100.27, 129.17,\n",
       "       164.66, 118.99])"
      ]
     },
     "execution_count": 26,
     "metadata": {},
     "output_type": "execute_result"
    }
   ],
   "source": [
    "from sklearn.ensemble import RandomForestRegressor\n",
    "regressor=RandomForestRegressor(n_estimators=100)\n",
    "regressor.fit(x_train,y_train)\n",
    "y_pred=regressor.predict(x_test)\n",
    "y_pred"
   ]
  },
  {
   "cell_type": "code",
   "execution_count": 27,
   "id": "6fad19e1",
   "metadata": {},
   "outputs": [
    {
     "name": "stdout",
     "output_type": "stream",
     "text": [
      "R-Squared error: 0.9875990760752608\n"
     ]
    }
   ],
   "source": [
    "from sklearn import metrics\n",
    "error_score=metrics.r2_score(y_test,y_pred)\n",
    "print('R-Squared error:',error_score)"
   ]
  },
  {
   "cell_type": "markdown",
   "id": "44f9f3b6",
   "metadata": {},
   "source": [
    "# Comparing actual and predicted values"
   ]
  },
  {
   "cell_type": "code",
   "execution_count": 28,
   "id": "fa0cbbd9",
   "metadata": {},
   "outputs": [
    {
     "name": "stdout",
     "output_type": "stream",
     "text": [
      "[110, 151, 137, 113, 114, 96, 110, 95, 121, 126, 146, 122, 116, 87, 95, 92, 115, 89, 124, 115, 120, 151, 122, 120, 171, 109, 119, 87, 88, 90, 121, 154, 151, 128, 126, 90, 167, 120, 105, 143, 92, 127, 116, 152, 118, 89, 76, 120, 131, 118, 128, 165, 155, 92, 147, 150, 114, 111, 87, 127, 124, 151, 113, 110, 161, 119, 107, 129, 131, 125, 115, 150, 155, 168, 110, 141, 102, 113, 119, 123, 118, 93, 140, 106, 124, 92, 131, 126, 127, 126, 113, 119, 161, 80, 118, 116, 134, 110, 108, 125, 126, 110, 161, 123, 121, 129, 147, 92, 124, 120, 107, 136, 120, 98, 116, 109, 126, 114, 105, 174, 97, 124, 112, 112, 125, 168, 115, 135, 125, 162, 120, 87, 128, 127, 111, 123, 126, 170, 114, 118, 125, 127, 167, 160, 170, 120, 121, 163, 98, 79, 115, 113, 117, 115, 122, 119, 104, 170, 145, 167, 115, 126, 125, 164, 117, 133, 133, 131, 113, 132, 155, 132, 96, 107, 125, 139, 97, 129, 99, 120, 135, 109, 128, 127, 114, 139, 152, 166, 119, 105, 118, 114, 106, 124, 153, 128, 128, 149, 139, 78, 125, 126, 124, 105, 172, 177, 75, 120, 93, 117, 125, 117, 122, 157, 147, 92, 131, 108, 111, 107, 169, 128, 102, 124, 109, 91, 147, 120, 120, 102, 126, 95, 120, 117, 133, 125, 169, 82, 167, 127, 110, 127, 122, 85, 122, 112, 89, 114, 113, 166, 109, 92, 118, 110, 91, 74, 160, 115, 142, 96, 120, 150, 159, 113, 116, 138, 117, 150, 177, 87, 110, 153, 107, 159, 110, 135, 122, 115, 115, 85, 75, 131, 120, 117, 110, 154, 173, 123, 157, 152, 106, 91, 122, 153, 163, 157, 90, 133, 153, 109, 152, 83, 116, 121, 128, 152, 116, 127, 113, 102, 113, 95, 167, 137, 87, 128, 111, 164, 122, 107, 102, 116, 110, 73, 90, 121, 86, 112, 171, 165, 91, 137, 89, 118, 108, 124, 117, 123, 107, 129, 113, 159, 108, 115, 156, 143, 94, 89, 124, 89, 114, 115, 168, 121, 106, 160, 76, 125, 71, 124, 159, 127, 161, 120, 109, 155, 124, 161, 139, 132, 134, 115, 115, 126, 129, 166, 88, 168, 109, 118, 137, 121, 162, 120, 115, 142, 130, 113, 118, 122, 124, 108, 104, 73, 161, 155, 84, 148, 153, 121, 114, 122, 162, 130, 118, 136, 160, 124, 128, 124, 120, 152, 86, 103, 133, 163, 131, 89, 161, 117, 97, 128, 138, 122, 118, 112, 80, 121, 102, 161, 117, 126, 123, 93, 132, 158, 102, 94, 127, 92, 114, 123, 123, 107, 119, 148, 146, 131, 170, 98, 118, 127, 115, 115, 98, 130, 164, 120]\n"
     ]
    }
   ],
   "source": [
    "y_test=list(y_test)\n",
    "print(y_test)"
   ]
  },
  {
   "cell_type": "code",
   "execution_count": 29,
   "id": "b7019df6",
   "metadata": {},
   "outputs": [
    {
     "data": {
      "text/plain": [
       "<function matplotlib.pyplot.show(close=None, block=None)>"
      ]
     },
     "execution_count": 29,
     "metadata": {},
     "output_type": "execute_result"
    },
    {
     "data": {
      "image/png": "[encoded data removed]",
      "text/plain": [
       "<Figure size 640x480 with 1 Axes>"
      ]
     },
     "metadata": {},
     "output_type": "display_data"
    }
   ],
   "source": [
    "plt.plot(y_test,color='blue',label='Actual values')\n",
    "plt.plot(y_pred,color='green',label='Predicted values')\n",
    "plt.title('Actual price vs Predicited price')\n",
    "plt.xlabel('No: of values')\n",
    "plt.ylabel('gold price')\n",
    "plt.legend()\n",
    "plt.show"
   ]
  },
  {
   "cell_type": "markdown",
   "id": "c9cef9a2",
   "metadata": {},
   "source": [
    "# The actual and predicted values are close!"
   ]
  }
 ],
 "metadata": {
  "kernelspec": {
   "display_name": "Python 3 (ipykernel)",
   "language": "python",
   "name": "python3"
  },
  "language_info": {
   "codemirror_mode": {
    "name": "ipython",
    "version": 3
   },
   "file_extension": ".py",
   "mimetype": "text/x-python",
   "name": "python",
   "nbconvert_exporter": "python",
   "pygments_lexer": "ipython3",
   "version": "3.9.13"
  }
 },
 "nbformat": 4,
 "nbformat_minor": 5
}
